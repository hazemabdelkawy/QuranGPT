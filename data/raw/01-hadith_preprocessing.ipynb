{
 "cells": [
  {
   "cell_type": "code",
   "execution_count": 1,
   "id": "db28bc5e-2e4e-47a9-ab7a-32303de12161",
   "metadata": {
    "tags": []
   },
   "outputs": [],
   "source": [
    "import os\n",
    "import glob\n",
    "import pandas as pd\n",
    "import json"
   ]
  },
  {
   "cell_type": "code",
   "execution_count": 2,
   "id": "8667bf13-c39d-4e05-be2e-00e4a094e037",
   "metadata": {
    "tags": []
   },
   "outputs": [],
   "source": [
    "def find_csv_files(directory):\n",
    "    \"\"\"\n",
    "    Find all CSV files in the given directory.\n",
    "\n",
    "    Args:\n",
    "        directory (str): The directory path to search for CSV files.\n",
    "\n",
    "    Returns:\n",
    "        list: A list of CSV file paths found in the specified directory.\n",
    "    \"\"\"\n",
    "    return glob.glob(os.path.join(directory, \"*.csv\"))"
   ]
  },
  {
   "cell_type": "code",
   "execution_count": 3,
   "id": "64ddd7e1-3189-4013-8603-1928c9f87078",
   "metadata": {
    "tags": []
   },
   "outputs": [],
   "source": [
    "def concatenate_csv_files(csv_files):\n",
    "    \"\"\"\n",
    "    Concatenate the data from a list of CSV files into a single DataFrame.\n",
    "\n",
    "    Args:\n",
    "        csv_files (list): A list of CSV file paths.\n",
    "\n",
    "    Returns:\n",
    "        DataFrame: A pandas DataFrame containing the concatenated data from all the CSV files.\n",
    "    \"\"\"\n",
    "    combined_data = pd.DataFrame()\n",
    "    for file in csv_files:\n",
    "        temp_data = pd.read_csv(file)\n",
    "        combined_data = pd.concat([combined_data, temp_data], ignore_index=True)\n",
    "    return combined_data"
   ]
  },
  {
   "cell_type": "code",
   "execution_count": 4,
   "id": "ffa659b8-35e7-41d0-828a-67f85c25f5e2",
   "metadata": {
    "tags": []
   },
   "outputs": [],
   "source": [
    "def save_combined_data_to_csv(combined_data, output_file):\n",
    "    \"\"\"\n",
    "    Save the combined data from multiple CSV files to a single CSV file.\n",
    "\n",
    "    Args:\n",
    "        combined_data (DataFrame): A pandas DataFrame containing the combined data from multiple CSV files.\n",
    "        output_file (str): The output file path for saving the combined data.\n",
    "    \"\"\"\n",
    "    combined_data.to_csv(output_file, index=False)"
   ]
  },
  {
   "cell_type": "code",
   "execution_count": 5,
   "id": "842473e8-7ea9-4750-bbab-4757072e94ca",
   "metadata": {
    "tags": []
   },
   "outputs": [],
   "source": [
    "def convert_dataframe_to_json(combined_data):\n",
    "    \"\"\"\n",
    "    Convert a pandas DataFrame to a JSON format.\n",
    "\n",
    "    Args:\n",
    "        combined_data (DataFrame): A pandas DataFrame to be converted to JSON.\n",
    "\n",
    "    Returns:\n",
    "        list: A list of dictionaries representing the JSON data.\n",
    "    \"\"\"\n",
    "    return combined_data.to_dict(orient='records')"
   ]
  },
  {
   "cell_type": "code",
   "execution_count": 6,
   "id": "7a112784-d731-48b6-9e76-0b2c0740dbfd",
   "metadata": {
    "tags": []
   },
   "outputs": [],
   "source": [
    "def save_json_data_to_file(json_data, output_file):\n",
    "    \"\"\"\n",
    "    Save JSON data to a file.\n",
    "\n",
    "    Args:\n",
    "        json_data (list): A list of dictionaries representing the JSON data.\n",
    "        output_file (str): The output file path for saving the JSON data.\n",
    "    \"\"\"\n",
    "    with open(output_file, \"w\") as outfile:\n",
    "        json.dump(json_data, outfile, ensure_ascii=False, indent=4)"
   ]
  },
  {
   "cell_type": "code",
   "execution_count": 7,
   "id": "6cb12415-e065-48a4-96ff-ceae2ea76278",
   "metadata": {
    "tags": []
   },
   "outputs": [],
   "source": [
    "def main():\n",
    "    # Find all CSV files in the specified directory\n",
    "    csv_files = find_csv_files(\"hadith/termzi\")\n",
    "\n",
    "    # Concatenate the data from the CSV files into a single DataFrame\n",
    "    combined_data = concatenate_csv_files(csv_files)\n",
    "\n",
    "    # Save the combined data to a new CSV file\n",
    "    save_combined_data_to_csv(combined_data, \"termzi.csv\")\n",
    "\n",
    "    # Convert the combined data to a JSON format\n",
    "    combined_data_json = convert_dataframe_to_json(combined_data)\n",
    "\n",
    "    # Save the combined data to a new JSON file\n",
    "    save_json_data_to_file(combined_data_json, \"termzi.json\")"
   ]
  },
  {
   "cell_type": "code",
   "execution_count": 8,
   "id": "0ae43351-9d65-4366-b9d3-e5e20185a60a",
   "metadata": {
    "tags": []
   },
   "outputs": [],
   "source": [
    "if __name__ == \"__main__\":\n",
    "    main()"
   ]
  },
  {
   "cell_type": "code",
   "execution_count": null,
   "id": "05bf7797-4460-44ca-8804-2020b3123d53",
   "metadata": {},
   "outputs": [],
   "source": []
  }
 ],
 "metadata": {
  "kernelspec": {
   "display_name": "Python 3 (ipykernel)",
   "language": "python",
   "name": "python3"
  },
  "language_info": {
   "codemirror_mode": {
    "name": "ipython",
    "version": 3
   },
   "file_extension": ".py",
   "mimetype": "text/x-python",
   "name": "python",
   "nbconvert_exporter": "python",
   "pygments_lexer": "ipython3",
   "version": "3.8.16"
  }
 },
 "nbformat": 4,
 "nbformat_minor": 5
}
