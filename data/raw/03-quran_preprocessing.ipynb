{
 "cells": [
  {
   "cell_type": "code",
   "execution_count": 4,
   "id": "f787a619-af26-4384-b023-325a5d4ce509",
   "metadata": {
    "tags": []
   },
   "outputs": [],
   "source": [
    "import pandas as pd\n",
    "import json"
   ]
  },
  {
   "cell_type": "code",
   "execution_count": 1,
   "id": "cf0b3c42-2ee0-4ea6-a334-8c005f428595",
   "metadata": {
    "tags": []
   },
   "outputs": [],
   "source": [
    "def xlsx_to_csv(input_file, output_file):\n",
    "    \"\"\"\n",
    "    Convert an XLSX file to a CSV file.\n",
    "    \n",
    "    Args:\n",
    "        input_file (str): The input XLSX file path.\n",
    "        output_file (str): The output CSV file path.\n",
    "    \"\"\"\n",
    "    # Read the XLSX file using pandas\n",
    "    df = pd.read_excel(input_file, engine='openpyxl')\n",
    "\n",
    "    # Save the DataFrame as a CSV file\n",
    "    df.to_csv(output_file, index=False)"
   ]
  },
  {
   "cell_type": "code",
   "execution_count": 2,
   "id": "ff0bff75-8396-434c-a729-55378c10dc12",
   "metadata": {
    "tags": []
   },
   "outputs": [],
   "source": [
    "if __name__ == \"__main__\":\n",
    "    input_file = 'quran/quran.xlsx'    # Replace with your input XLSX file name\n",
    "    output_file = 'quran/quran.csv'   # Replace with your desired output CSV file name\n",
    "\n",
    "    xlsx_to_csv(input_file, output_file)"
   ]
  },
  {
   "cell_type": "code",
   "execution_count": 3,
   "id": "87fd3ee6-cb37-47b1-b66a-c656c445c329",
   "metadata": {
    "tags": []
   },
   "outputs": [],
   "source": [
    "def csv_to_json(input_file, output_file, new_column_names):\n",
    "    \"\"\"\n",
    "    Convert a CSV file to a JSON file with the specified column names.\n",
    "    \n",
    "    Args:\n",
    "        input_file (str): The input CSV file path.\n",
    "        output_file (str): The output JSON file path.\n",
    "        new_column_names (dict): A dictionary with the old column names as keys and the new column names as values.\n",
    "    \"\"\"\n",
    "    # Read the CSV data from the input file using pandas\n",
    "    df = pd.read_csv(input_file)\n",
    "\n",
    "    # Remove the 'SrNo', 'WebLink', and 'SurahMeaning' columns\n",
    "    df = df.drop(columns=['SrNo', 'WebLink', 'SurahMeaning'])\n",
    "\n",
    "    # Rename the columns using the provided new_column_names dictionary\n",
    "    df = df.rename(columns=new_column_names)\n",
    "\n",
    "    # Convert the DataFrame to a list of dictionaries\n",
    "    data = df.to_dict(orient='records')\n",
    "\n",
    "    # Save the list as a JSON file using json.dump\n",
    "    with open(output_file, 'w', encoding='utf-8') as f:\n",
    "        json.dump(data, f, ensure_ascii=False, indent=4)"
   ]
  },
  {
   "cell_type": "code",
   "execution_count": 5,
   "id": "e86b7e82-7309-4eb1-82d4-6eac52cb1743",
   "metadata": {
    "tags": []
   },
   "outputs": [],
   "source": [
    "if __name__ == \"__main__\":\n",
    "    input_file = 'quran/quran.csv'     # Replace with your input CSV file name\n",
    "    output_file = 'quran/quran.json'  # Replace with your desired output JSON file name\n",
    "\n",
    "    # Define the new column names as a dictionary\n",
    "    new_column_names = {\n",
    "        'Juz': 'juz',\n",
    "        'JuzNameArabic': 'juz_name_arabic',\n",
    "        'JuzNameEnglish': 'juz_name_english',\n",
    "        'SurahNo': 'surah_number',\n",
    "        'SurahNameArabic': 'surah_name_arabic',\n",
    "        'SurahNameEnglish': 'surah_name_english',\n",
    "        'Classification': 'revelation_location',\n",
    "        'AyahNo': 'aya_number',\n",
    "        'EnglishTranslation': 'english_translation',\n",
    "        'OrignalArabicText': 'arabic_diacritics',\n",
    "        'ArabicText': 'arabic_clean',\n",
    "        'ArabicWordCount': 'arabic_words_count',\n",
    "        'ArabicLetterCount': 'arabic_letters_count',\n",
    "    }\n",
    "\n",
    "    csv_to_json(input_file, output_file, new_column_names)"
   ]
  },
  {
   "cell_type": "code",
   "execution_count": null,
   "id": "377911f0-04db-481c-8e38-eed905350041",
   "metadata": {},
   "outputs": [],
   "source": []
  }
 ],
 "metadata": {
  "kernelspec": {
   "display_name": "Python 3 (ipykernel)",
   "language": "python",
   "name": "python3"
  },
  "language_info": {
   "codemirror_mode": {
    "name": "ipython",
    "version": 3
   },
   "file_extension": ".py",
   "mimetype": "text/x-python",
   "name": "python",
   "nbconvert_exporter": "python",
   "pygments_lexer": "ipython3",
   "version": "3.8.16"
  }
 },
 "nbformat": 4,
 "nbformat_minor": 5
}
