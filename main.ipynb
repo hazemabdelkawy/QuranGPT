{
 "cells": [
  {
   "cell_type": "code",
   "execution_count": 7,
   "metadata": {},
   "outputs": [],
   "source": [
    "import pandas as pd\n",
    "import numpy as np\n",
    "from sklearn.manifold import TSNE\n",
    "from transformers import AutoTokenizer, AutoModel\n",
    "import plotly.graph_objs as go\n",
    "import torch"
   ]
  },
  {
   "cell_type": "code",
   "execution_count": 19,
   "metadata": {},
   "outputs": [],
   "source": [
    "surah_names = {\n",
    "    '1': 'Al-Fatihah',\n",
    "    '2': 'Al-Baqarah',\n",
    "    '3': 'Aal-E-Imran',\n",
    "    '4': 'An-Nisa',\n",
    "    '5': 'Al-Maidah',\n",
    "    '6': 'Al-An\\'am',\n",
    "    '7': 'Al-A\\'raf',\n",
    "    '8': 'Al-Anfal',\n",
    "    '9': 'At-Tawbah',\n",
    "    '10': 'Yunus',\n",
    "    '11': 'Hud',\n",
    "    '12': 'Yusuf',\n",
    "    '13': 'Ar-Ra\\'d',\n",
    "    '14': 'Ibrahim',\n",
    "    '15': 'Al-Hijr',\n",
    "    '16': 'An-Nahl',\n",
    "    '17': 'Al-Isra',\n",
    "    '18': 'Al-Kahf',\n",
    "    '19': 'Maryam',\n",
    "    '20': 'Taha',\n",
    "    '21': 'Al-Anbiya',\n",
    "    '22': 'Al-Hajj',\n",
    "    '23': 'Al-Mu\\'minun',\n",
    "    '24': 'An-Nur',\n",
    "    '25': 'Al-Furqan',\n",
    "    '26': 'Ash-Shu\\'ara',\n",
    "    '27': 'An-Naml',\n",
    "    '28': 'Al-Qasas',\n",
    "    '29': 'Al-Ankabut',\n",
    "    '30': 'Ar-Rum',\n",
    "    '31': 'Luqman',\n",
    "    '32': 'As-Sajda',\n",
    "    '33': 'Al-Ahzab',\n",
    "    '34': 'Saba',\n",
    "    '35': 'Fatir',\n",
    "    '36': 'Ya-Sin',\n",
    "    '37': 'As-Saffat',\n",
    "    '38': 'Sad',\n",
    "    '39': 'Az-Zumar',\n",
    "    '40': 'Ghafir',\n",
    "    '41': 'Fussilat',\n",
    "    '42': 'Ash-Shura',\n",
    "    '43': 'Az-Zukhruf',\n",
    "    '44': 'Ad-Dukhan',\n",
    "    '45': 'Al-Jathiya',\n",
    "    '46': 'Al-Ahqaf',\n",
    "    '47': 'Muhammad',\n",
    "    '48': 'Al-Fath',\n",
    "    '49': 'Al-Hujraat',\n",
    "    '50': 'Qaf',\n",
    "    '51': 'Adh-Dhariyat',\n",
    "    '52': 'At-Tur',\n",
    "    '53': 'An-Najm',\n",
    "    '54': 'Al-Qamar',\n",
    "    '55': 'Ar-Rahman',\n",
    "    '56': 'Al-Waqi\\'a',\n",
    "    '57': 'Al-Hadid',\n",
    "    '58': 'Al-Mujadila',\n",
    "    '59': 'Al-Hashr',\n",
    "    '60': 'Al-Mumtahina',\n",
    "    '61': 'As-Saff',\n",
    "    '62': 'Al-Jumu\\'a',\n",
    "    '63': 'Al-Munafiqun',\n",
    "    '64': 'At-Taghabun',\n",
    "    '65': 'At-Talaq',\n",
    "    '66': 'At-Tahrim',\n",
    "    '67': 'Al-Mulk',\n",
    "    '68': 'Al-Qalam',\n",
    "    '69': 'Al-Haaqqa',\n",
    "    '70': 'Al-Ma\\'arij',\n",
    "    '71': 'Nuh',\n",
    "    '72': 'Al-Jinn',\n",
    "    '73': 'Al-Muzzammil',\n",
    "    '74': 'Al-Muddaththir',\n",
    "    '75': 'Al-Qiyama',\n",
    "    '76': 'Al-Insan',\n",
    "    '77': 'Al-Mursalat',\n",
    "    '78': 'An-Naba',\n",
    "    '79': 'An-Nazi\\'at',\n",
    "    '80': 'Abasa',\n",
    "    '81': 'At-Takwir',\n",
    "    '82': 'Al-Infitar',\n",
    "    '83': 'Al-Mutaffifin',\n",
    "    '84': 'Al-Inshiqaq',\n",
    "    '85': 'Al-Buruj',\n",
    "    '86': 'At-Tariq',\n",
    "    '87': 'Al-A\\'la',\n",
    "    '88': 'Al-Ghashiya',\n",
    "    '89': 'Al-Fajr',\n",
    "    '90': 'Al-Balad',\n",
    "    '91': 'Ash-Shams',\n",
    "    '92': 'Al-Lail',\n",
    "    '93': 'Ad-Duha',\n",
    "    '94': 'Al-Inshirah',\n",
    "    '95': 'At-Tin',\n",
    "    '96': 'Al-Alaq',\n",
    "    '97': 'Al-Qadr',\n",
    "    '98': 'Al-Bayyina',\n",
    "    '99': 'Az-Zalzala',\n",
    "    '100': 'Al-Adiyat',\n",
    "    '101': 'Al-Qari\\'a',\n",
    "    '102': 'At-Takathur',\n",
    "    '103': 'Al-Asr',\n",
    "    '104': 'Al-Humaza',\n",
    "    '105': 'Al-Fil',\n",
    "    '106': 'Quraysh',\n",
    "    '107': 'Al-Ma\\'un',\n",
    "    '108': 'Al-Kawthar',\n",
    "    '109': 'Al-Kafirun',\n",
    "    '110': 'An-Nasr',\n",
    "    '111': 'Al-Masad',\n",
    "    '112': 'Al-Ikhlas',\n",
    "    '113': 'Al-Falaq',\n",
    "    '114': 'An-Nas'\n",
    "}"
   ]
  },
  {
   "cell_type": "code",
   "execution_count": 4,
   "metadata": {},
   "outputs": [],
   "source": [
    "# Step 2: Read the Quran and its translation from text files\n",
    "\n",
    "with open('data/quran_en.txt', 'r', encoding='utf-8') as f:\n",
    "    quran_en = f.readlines()\n",
    "quran_en = [verse.strip().split('|') for verse in quran_en]\n",
    "\n",
    "with open('data/quran_ar.txt', 'r', encoding='utf-8') as f:\n",
    "    quran_ar = f.readlines()\n",
    "quran_ar = [verse.strip().split('|') for verse in quran_ar]\n",
    "\n",
    "# Merge Arabic and English Quran data\n",
    "quran_data = []\n",
    "for i in range(len(quran_en)):\n",
    "    quran_data.append({\n",
    "        'surah': int(quran_en[i][0]),\n",
    "        'ayah': int(quran_en[i][1]),\n",
    "        'text_en': quran_en[i][2],\n",
    "        'text_ar': quran_ar[i][2]\n",
    "    })"
   ]
  },
  {
   "cell_type": "code",
   "execution_count": 9,
   "metadata": {},
   "outputs": [
    {
     "data": {
      "text/plain": [
       "{'surah': 107,\n",
       " 'ayah': 4,\n",
       " 'text_en': 'Woe, therefore, Unto such performers of prayer.',\n",
       " 'text_ar': 'فويل للمصلين'}"
      ]
     },
     "execution_count": 9,
     "metadata": {},
     "output_type": "execute_result"
    }
   ],
   "source": [
    "quran_data[6200]"
   ]
  },
  {
   "cell_type": "code",
   "execution_count": 6,
   "metadata": {},
   "outputs": [
    {
     "data": {
      "application/vnd.jupyter.widget-view+json": {
       "model_id": "b11b97bb21624023bda22b2a883197ff",
       "version_major": 2,
       "version_minor": 0
      },
      "text/plain": [
       "Downloading (…)okenizer_config.json:   0%|          | 0.00/28.0 [00:00<?, ?B/s]"
      ]
     },
     "metadata": {},
     "output_type": "display_data"
    },
    {
     "data": {
      "application/vnd.jupyter.widget-view+json": {
       "model_id": "8cee3df7a77e45d394cb3472dd11a515",
       "version_major": 2,
       "version_minor": 0
      },
      "text/plain": [
       "Downloading (…)lve/main/config.json:   0%|          | 0.00/570 [00:00<?, ?B/s]"
      ]
     },
     "metadata": {},
     "output_type": "display_data"
    },
    {
     "data": {
      "application/vnd.jupyter.widget-view+json": {
       "model_id": "4272b14627dc4a94ab2c1e6e2979fdb4",
       "version_major": 2,
       "version_minor": 0
      },
      "text/plain": [
       "Downloading (…)solve/main/vocab.txt:   0%|          | 0.00/232k [00:00<?, ?B/s]"
      ]
     },
     "metadata": {},
     "output_type": "display_data"
    },
    {
     "data": {
      "application/vnd.jupyter.widget-view+json": {
       "model_id": "a9fd1552990146a8b426438922652e85",
       "version_major": 2,
       "version_minor": 0
      },
      "text/plain": [
       "Downloading (…)/main/tokenizer.json:   0%|          | 0.00/466k [00:00<?, ?B/s]"
      ]
     },
     "metadata": {},
     "output_type": "display_data"
    },
    {
     "data": {
      "application/vnd.jupyter.widget-view+json": {
       "model_id": "b7683a66de344bb6bf43a186bddbf980",
       "version_major": 2,
       "version_minor": 0
      },
      "text/plain": [
       "Downloading (…)\"pytorch_model.bin\";:   0%|          | 0.00/440M [00:00<?, ?B/s]"
      ]
     },
     "metadata": {},
     "output_type": "display_data"
    },
    {
     "name": "stderr",
     "output_type": "stream",
     "text": [
      "Some weights of the model checkpoint at bert-base-uncased were not used when initializing BertModel: ['cls.predictions.transform.LayerNorm.bias', 'cls.seq_relationship.weight', 'cls.predictions.transform.LayerNorm.weight', 'cls.predictions.transform.dense.bias', 'cls.predictions.bias', 'cls.seq_relationship.bias', 'cls.predictions.transform.dense.weight', 'cls.predictions.decoder.weight']\n",
      "- This IS expected if you are initializing BertModel from the checkpoint of a model trained on another task or with another architecture (e.g. initializing a BertForSequenceClassification model from a BertForPreTraining model).\n",
      "- This IS NOT expected if you are initializing BertModel from the checkpoint of a model that you expect to be exactly identical (initializing a BertForSequenceClassification model from a BertForSequenceClassification model).\n"
     ]
    }
   ],
   "source": [
    "# Step 3: Calculate the embeddings of the Quran verses using BERT\n",
    "\n",
    "# Load pre-trained BERT model and tokenizer\n",
    "model_name = 'bert-base-uncased'\n",
    "tokenizer = AutoTokenizer.from_pretrained(model_name)\n",
    "model = AutoModel.from_pretrained(model_name)"
   ]
  },
  {
   "cell_type": "code",
   "execution_count": 10,
   "metadata": {},
   "outputs": [],
   "source": [
    "# Encode the text using the tokenizer and extract embeddings using the model\n",
    "embeddings = []\n",
    "for verse in quran_data:\n",
    "    text = verse['text_en']\n",
    "    encoding = tokenizer(text, return_tensors='pt', padding=True, truncation=True)\n",
    "    with torch.no_grad():\n",
    "        output = model(**encoding)\n",
    "        embedding = output.last_hidden_state.mean(dim=1).squeeze().numpy()\n",
    "        embeddings.append(embedding)"
   ]
  },
  {
   "cell_type": "code",
   "execution_count": 15,
   "metadata": {},
   "outputs": [],
   "source": [
    "# Step 4: Visualize the Quran verses\n",
    "\n",
    "# Reduce dimensionality of embeddings using t-SNE\n",
    "tsne = TSNE(n_components=3, random_state=7)\n",
    "embeddings_3d = tsne.fit_transform(np.array(embeddings))"
   ]
  },
  {
   "cell_type": "code",
   "execution_count": 20,
   "metadata": {},
   "outputs": [
    {
     "ename": "KeyError",
     "evalue": "1",
     "output_type": "error",
     "traceback": [
      "\u001b[0;31m---------------------------------------------------------------------------\u001b[0m",
      "\u001b[0;31mKeyError\u001b[0m                                  Traceback (most recent call last)",
      "Cell \u001b[0;32mIn[20], line 22\u001b[0m\n\u001b[1;32m      9\u001b[0m     data \u001b[39m=\u001b[39m pd\u001b[39m.\u001b[39mDataFrame(quran_data)[pd\u001b[39m.\u001b[39mDataFrame(quran_data)[\u001b[39m'\u001b[39m\u001b[39msurah\u001b[39m\u001b[39m'\u001b[39m] \u001b[39m==\u001b[39m surah]\n\u001b[1;32m     10\u001b[0m     color \u001b[39m=\u001b[39m \u001b[39mf\u001b[39m\u001b[39m'\u001b[39m\u001b[39mrgb(\u001b[39m\u001b[39m{\u001b[39;00m\u001b[39m\"\u001b[39m\u001b[39m,\u001b[39m\u001b[39m\"\u001b[39m\u001b[39m.\u001b[39mjoin(\u001b[39mmap\u001b[39m(\u001b[39mstr\u001b[39m,\u001b[39m \u001b[39mcolors[surah]))\u001b[39m}\u001b[39;00m\u001b[39m)\u001b[39m\u001b[39m'\u001b[39m\n\u001b[1;32m     11\u001b[0m     fig\u001b[39m.\u001b[39madd_trace(go\u001b[39m.\u001b[39mScatter3d(\n\u001b[1;32m     12\u001b[0m         x\u001b[39m=\u001b[39membeddings_3d[data\u001b[39m.\u001b[39mindex, \u001b[39m0\u001b[39m],\n\u001b[1;32m     13\u001b[0m         y\u001b[39m=\u001b[39membeddings_3d[data\u001b[39m.\u001b[39mindex, \u001b[39m1\u001b[39m],\n\u001b[1;32m     14\u001b[0m         z\u001b[39m=\u001b[39membeddings_3d[data\u001b[39m.\u001b[39mindex, \u001b[39m2\u001b[39m],\n\u001b[1;32m     15\u001b[0m         text\u001b[39m=\u001b[39mdata[\u001b[39m'\u001b[39m\u001b[39mtext_ar\u001b[39m\u001b[39m'\u001b[39m],\n\u001b[1;32m     16\u001b[0m         mode\u001b[39m=\u001b[39m\u001b[39m'\u001b[39m\u001b[39mmarkers\u001b[39m\u001b[39m'\u001b[39m,\n\u001b[1;32m     17\u001b[0m         marker\u001b[39m=\u001b[39m\u001b[39mdict\u001b[39m(\n\u001b[1;32m     18\u001b[0m             size\u001b[39m=\u001b[39m\u001b[39m10\u001b[39m,\n\u001b[1;32m     19\u001b[0m             color\u001b[39m=\u001b[39mcolor,\n\u001b[1;32m     20\u001b[0m             opacity\u001b[39m=\u001b[39m\u001b[39m0.8\u001b[39m,\n\u001b[1;32m     21\u001b[0m         ),\n\u001b[0;32m---> 22\u001b[0m         name\u001b[39m=\u001b[39msurah_names[surah]\n\u001b[1;32m     23\u001b[0m     ))\n\u001b[1;32m     25\u001b[0m \u001b[39m# Set plot layout\u001b[39;00m\n\u001b[1;32m     26\u001b[0m fig\u001b[39m.\u001b[39mupdate_layout(\n\u001b[1;32m     27\u001b[0m     title\u001b[39m=\u001b[39m\u001b[39m'\u001b[39m\u001b[39mDistribution of Quran Verses\u001b[39m\u001b[39m'\u001b[39m,\n\u001b[1;32m     28\u001b[0m     xaxis\u001b[39m=\u001b[39m\u001b[39mdict\u001b[39m(title\u001b[39m=\u001b[39m\u001b[39m'\u001b[39m\u001b[39mt-SNE Dimension 1\u001b[39m\u001b[39m'\u001b[39m),\n\u001b[1;32m     29\u001b[0m     yaxis\u001b[39m=\u001b[39m\u001b[39mdict\u001b[39m(title\u001b[39m=\u001b[39m\u001b[39m'\u001b[39m\u001b[39mt-SNE Dimension 2\u001b[39m\u001b[39m'\u001b[39m)\n\u001b[1;32m     30\u001b[0m )\n",
      "\u001b[0;31mKeyError\u001b[0m: 1"
     ]
    }
   ],
   "source": [
    "# Create a dictionary to map each surah to a unique color\n",
    "colors = {}\n",
    "for surah in pd.DataFrame(quran_data)['surah'].unique():\n",
    "    colors[surah] = np.random.choice(range(256), size=3)\n",
    "\n",
    "# Create scatter plot\n",
    "fig = go.Figure()\n",
    "for surah in pd.DataFrame(quran_data)['surah'].unique():\n",
    "    data = pd.DataFrame(quran_data)[pd.DataFrame(quran_data)['surah'] == surah]\n",
    "    color = f'rgb({\",\".join(map(str, colors[surah]))})'\n",
    "    fig.add_trace(go.Scatter3d(\n",
    "        x=embeddings_3d[data.index, 0],\n",
    "        y=embeddings_3d[data.index, 1],\n",
    "        z=embeddings_3d[data.index, 2],\n",
    "        text=data['text_ar'],\n",
    "        mode='markers',\n",
    "        marker=dict(\n",
    "            size=10,\n",
    "            color=color,\n",
    "            opacity=0.8,\n",
    "        ),\n",
    "        name=surah_names[f'{surah}']\n",
    "    ))\n",
    "\n",
    "# Set plot layout\n",
    "fig.update_layout(\n",
    "    title='Distribution of Quran Verses',\n",
    "    xaxis=dict(title='t-SNE Dimension 1'),\n",
    "    yaxis=dict(title='t-SNE Dimension 2')\n",
    ")\n",
    "\n",
    "# Export plot as HTML file\n",
    "fig.write_html('quran_verses.html')"
   ]
  },
  {
   "cell_type": "code",
   "execution_count": null,
   "metadata": {},
   "outputs": [],
   "source": []
  }
 ],
 "metadata": {
  "kernelspec": {
   "display_name": "ml_env",
   "language": "python",
   "name": "python3"
  },
  "language_info": {
   "codemirror_mode": {
    "name": "ipython",
    "version": 3
   },
   "file_extension": ".py",
   "mimetype": "text/x-python",
   "name": "python",
   "nbconvert_exporter": "python",
   "pygments_lexer": "ipython3",
   "version": "3.8.16"
  },
  "orig_nbformat": 4
 },
 "nbformat": 4,
 "nbformat_minor": 2
}
